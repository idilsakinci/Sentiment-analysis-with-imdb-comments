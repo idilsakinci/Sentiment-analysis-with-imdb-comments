{
 "cells": [
  {
   "cell_type": "markdown",
   "id": "ea5971f4",
   "metadata": {},
   "source": [
    "# NLP (Doğal Dil İşleme) ile IMDB Verileri Duygu Analizi\n",
    "## Duygu analizi için kullanılan doğal dil işleme teknikleri, bir metindeki kelimelerin anlamını, cümlelerin yapısını, kelime dağarcığını ve benzeri özellikleri analiz ederek, metindeki duygu durumunu belirlemeye çalışır. Bu analizler sonucunda, metnin pozitif, negatif veya nötr olduğu belirlenebilir.\n",
    "#### Bu projede 4 farklı algoritma ile duygu analizi yapılmıştır."
   ]
  },
  {
   "cell_type": "markdown",
   "id": "08f89ca1",
   "metadata": {},
   "source": [
    "### Gerekli Kütüphanelerin Dahil Edilmesi ve Veri Setinin İncelenmesi"
   ]
  },
  {
   "cell_type": "code",
   "execution_count": 1,
   "id": "21ec9edc",
   "metadata": {},
   "outputs": [],
   "source": [
    "# import işlemleri yapıldı\n",
    "\n",
    "# Numpy kütüphanesi çok boyutlu diziler ve matrislerle çalışmak için kullanılır\n",
    "import numpy as np\n",
    "# Pandas kütüphanesi veri işleme ve temizleme için kullanılır\n",
    "import pandas as pd\n",
    "# Matplotlib verileri görselleştirmek için kullanılır\n",
    "import matplotlib.pyplot as plt\n",
    "# CountVectorizer metin verilerini sayısal vektörlere dönüştürmek için kullanılır\n",
    "from sklearn.feature_extraction.text import CountVectorizer\n",
    "# BeautifulSoup HTML taglerini veri setinden temizlemek için kullanılır\n",
    "from bs4 import BeautifulSoup \n",
    "# nltl doğal dil işleme için kullanılan bir kütüphanedir ve stopwords ayıklamak için kullanılır\n",
    "import nltk\n",
    "# stopwords İngilizce'de the, are, is gibi belirleyici olmayan kelimeleri ayrımak için kullanılır\n",
    "from nltk.corpus import stopwords\n",
    "# Kelime köklerini bulmak için kullanılır\n",
    "from nltk.stem.porter import PorterStemmer\n",
    "# Makine öğrenimi modelinin eğitim ve test verilerini ayırmak için kullanılır\n",
    "from sklearn.model_selection import train_test_split\n",
    "# Naive Bayes sınıflandırması için kullanılır\n",
    "from sklearn.naive_bayes import GaussianNB\n",
    "# Logistic Regression sınıflandırması için kullanılır\n",
    "from sklearn.linear_model import LogisticRegression\n",
    "# Decision Tree sınıflandırması için kullanılır\n",
    "from sklearn.tree import DecisionTreeClassifier\n",
    "# Random Forest Sınıflandırması için kullanılır\n",
    "from sklearn.ensemble import RandomForestClassifier\n",
    "# KNN sınıflandırması için kullanılır\n",
    "from sklearn.neighbors import KNeighborsClassifier\n",
    "# Roc_auc_score ROC eğrisi altında kalan alanın hesaplanması için kullanılır yani analizin doğruluk oranı ölçülür\n",
    "from sklearn.metrics import roc_auc_score\n",
    "# Sınıflandırma performansını değerlendirmek için kullanılan bir matris oluşturmak için kullanılır\n",
    "from sklearn.metrics import confusion_matrix\n",
    "# re düzenli ifadeler için kullanılan bir modüldür\n",
    "import re"
   ]
  },
  {
   "cell_type": "code",
   "execution_count": 2,
   "id": "0304fae7",
   "metadata": {},
   "outputs": [],
   "source": [
    "# Veri seti yüklendi\n",
    "# Veri setindeki yorumların birbirinden \\ ile ayrıldığı belirtildi\n",
    "# \"\" ların görmezden gelinmesi için de quoting=3 ifadesi kullanıldı\n",
    "df = pd.read_csv('NLPlabeledData.tsv',  delimiter=\"\\t\", quoting=3)"
   ]
  },
  {
   "cell_type": "code",
   "execution_count": 3,
   "id": "b8fd7588",
   "metadata": {},
   "outputs": [
    {
     "data": {
      "text/html": [
       "<div>\n",
       "<style scoped>\n",
       "    .dataframe tbody tr th:only-of-type {\n",
       "        vertical-align: middle;\n",
       "    }\n",
       "\n",
       "    .dataframe tbody tr th {\n",
       "        vertical-align: top;\n",
       "    }\n",
       "\n",
       "    .dataframe thead th {\n",
       "        text-align: right;\n",
       "    }\n",
       "</style>\n",
       "<table border=\"1\" class=\"dataframe\">\n",
       "  <thead>\n",
       "    <tr style=\"text-align: right;\">\n",
       "      <th></th>\n",
       "      <th>id</th>\n",
       "      <th>sentiment</th>\n",
       "      <th>review</th>\n",
       "    </tr>\n",
       "  </thead>\n",
       "  <tbody>\n",
       "    <tr>\n",
       "      <th>0</th>\n",
       "      <td>\"5814_8\"</td>\n",
       "      <td>1</td>\n",
       "      <td>\"With all this stuff going down at the moment ...</td>\n",
       "    </tr>\n",
       "    <tr>\n",
       "      <th>1</th>\n",
       "      <td>\"2381_9\"</td>\n",
       "      <td>1</td>\n",
       "      <td>\"\\\"The Classic War of the Worlds\\\" by Timothy ...</td>\n",
       "    </tr>\n",
       "    <tr>\n",
       "      <th>2</th>\n",
       "      <td>\"7759_3\"</td>\n",
       "      <td>0</td>\n",
       "      <td>\"The film starts with a manager (Nicholas Bell...</td>\n",
       "    </tr>\n",
       "    <tr>\n",
       "      <th>3</th>\n",
       "      <td>\"3630_4\"</td>\n",
       "      <td>0</td>\n",
       "      <td>\"It must be assumed that those who praised thi...</td>\n",
       "    </tr>\n",
       "    <tr>\n",
       "      <th>4</th>\n",
       "      <td>\"9495_8\"</td>\n",
       "      <td>1</td>\n",
       "      <td>\"Superbly trashy and wondrously unpretentious ...</td>\n",
       "    </tr>\n",
       "  </tbody>\n",
       "</table>\n",
       "</div>"
      ],
      "text/plain": [
       "         id  sentiment                                             review\n",
       "0  \"5814_8\"          1  \"With all this stuff going down at the moment ...\n",
       "1  \"2381_9\"          1  \"\\\"The Classic War of the Worlds\\\" by Timothy ...\n",
       "2  \"7759_3\"          0  \"The film starts with a manager (Nicholas Bell...\n",
       "3  \"3630_4\"          0  \"It must be assumed that those who praised thi...\n",
       "4  \"9495_8\"          1  \"Superbly trashy and wondrously unpretentious ..."
      ]
     },
     "execution_count": 3,
     "metadata": {},
     "output_type": "execute_result"
    }
   ],
   "source": [
    "# Veriler incelendi\n",
    "df.head()"
   ]
  },
  {
   "cell_type": "code",
   "execution_count": 4,
   "id": "efd01096",
   "metadata": {},
   "outputs": [
    {
     "data": {
      "text/plain": [
       "25000"
      ]
     },
     "execution_count": 4,
     "metadata": {},
     "output_type": "execute_result"
    }
   ],
   "source": [
    "# Veri setinin uzunluğuna bakıldı\n",
    "len(df)"
   ]
  },
  {
   "cell_type": "code",
   "execution_count": 5,
   "id": "585f9a00",
   "metadata": {},
   "outputs": [
    {
     "data": {
      "text/plain": [
       "25000"
      ]
     },
     "execution_count": 5,
     "metadata": {},
     "output_type": "execute_result"
    }
   ],
   "source": [
    "# Veri seti içinde kaç adet review(yorum) olduğuna bakıldı\n",
    "len(df[\"review\"])"
   ]
  },
  {
   "cell_type": "markdown",
   "id": "4c37318f",
   "metadata": {},
   "source": [
    "### Veri Setinin Temizlenmesi"
   ]
  },
  {
   "cell_type": "code",
   "execution_count": 6,
   "id": "2f0692ed",
   "metadata": {},
   "outputs": [
    {
     "name": "stderr",
     "output_type": "stream",
     "text": [
      "[nltk_data] Downloading package stopwords to\n",
      "[nltk_data]     C:\\Users\\idils\\AppData\\Roaming\\nltk_data...\n",
      "[nltk_data]   Package stopwords is already up-to-date!\n"
     ]
    },
    {
     "data": {
      "text/plain": [
       "True"
      ]
     },
     "execution_count": 6,
     "metadata": {},
     "output_type": "execute_result"
    }
   ],
   "source": [
    "# Stopwords temizlemek için nltk kütüphanesinden stopwords kelime seti indirildi\n",
    "# Bu işlem nltk ile yapıldı\n",
    "# Stopwords the, is, are gibi kelimeler anlamına gelmektedir\n",
    "nltk.download('stopwords')"
   ]
  },
  {
   "cell_type": "code",
   "execution_count": 7,
   "id": "cd497cc9",
   "metadata": {},
   "outputs": [],
   "source": [
    "# İşlemi yapacak fonksiyon oluşturuldu\n",
    "def process(review):\n",
    "    # HTML tagleri yorumların içinden temizlendi\n",
    "    # get_text ile temizlenmiş veri alındı\n",
    "    review = BeautifulSoup(review).get_text()\n",
    "    # Harf olmayan ifadelerin hepsi boşlukla değiştirildi. Noktalama işaretleri ve sayılar ayıklanmış oldu\n",
    "    review = re.sub(\"[^a-zA-Z]\",' ',review)\n",
    "    # Tüm harfler küçük harfe çevrildi\n",
    "    review = review.lower()\n",
    "    # Stopwords kelimelerin temizlenme işlemi liste üzerinden yapılabildiği için kelimeler işlemden önce split ile ayırılıp\n",
    "    # bir listeye dönüştürüldü\n",
    "    review = review.split()\n",
    "    # Kelimelerin kökleri bulundu\n",
    "    ps = PorterStemmer()\n",
    "    # Stopwords ayıklandı\n",
    "    swords = set(stopwords.words(\"english\"))\n",
    "    # Kelime stopword değilse review içine eklendi\n",
    "    review = [w for w in review if w not in swords]               \n",
    "    # Split edilmiş veriler boşluk ifadesiyle birleşitirildi ve temiz bir veri seti oluşmuş oldu\n",
    "    return(\" \".join(review))"
   ]
  },
  {
   "cell_type": "code",
   "execution_count": 8,
   "id": "69bbc1de",
   "metadata": {},
   "outputs": [
    {
     "name": "stderr",
     "output_type": "stream",
     "text": [
      "C:\\ProgramData\\anaconda3\\lib\\site-packages\\bs4\\__init__.py:435: MarkupResemblesLocatorWarning: The input looks more like a filename than markup. You may want to open this file and pass the filehandle into Beautiful Soup.\n",
      "  warnings.warn(\n"
     ]
    },
    {
     "name": "stdout",
     "output_type": "stream",
     "text": [
      "No of reviews processed = 1000\n",
      "No of reviews processed = 2000\n",
      "No of reviews processed = 3000\n",
      "No of reviews processed = 4000\n",
      "No of reviews processed = 5000\n",
      "No of reviews processed = 6000\n",
      "No of reviews processed = 7000\n",
      "No of reviews processed = 8000\n",
      "No of reviews processed = 9000\n",
      "No of reviews processed = 10000\n",
      "No of reviews processed = 11000\n",
      "No of reviews processed = 12000\n",
      "No of reviews processed = 13000\n",
      "No of reviews processed = 14000\n",
      "No of reviews processed = 15000\n",
      "No of reviews processed = 16000\n",
      "No of reviews processed = 17000\n",
      "No of reviews processed = 18000\n",
      "No of reviews processed = 19000\n",
      "No of reviews processed = 20000\n",
      "No of reviews processed = 21000\n",
      "No of reviews processed = 22000\n",
      "No of reviews processed = 23000\n",
      "No of reviews processed = 24000\n",
      "No of reviews processed = 25000\n"
     ]
    }
   ],
   "source": [
    "# corpus adlı bir dizi oluşturuldu\n",
    "corpus = []\n",
    "# Eldeki tüm veriler yukarıdaki fonksiyona göre döngüye sokuldu ve her birine ayıklanma işlemi uygulanmış oldu\n",
    "for r in range(len(df[\"review\"])): \n",
    "    # Her 1000 review sonrası bir kontrol satırı yazdırılarak review işleminin durumu kontrol edildi\n",
    "    if (r+1)%1000 == 0:        \n",
    "        print(\"No of reviews processed =\", r+1)\n",
    "    # Ayıklanan veri corpus dizisine eklendi\n",
    "    corpus.append(process(df[\"review\"][r]))"
   ]
  },
  {
   "cell_type": "markdown",
   "id": "ca16cab6",
   "metadata": {},
   "source": [
    "### Beg of Words \n",
    "#### Metin tabanlı verilerin sayılara ve bag of words matrisine çevrilmesi gerekiyor. Bunun için CountVectorizer kullanılmalı.¶\n",
    "#### En çok kullanılan 2000 kelime alınacak ve her bir review içinde o kelime varsa 1, yoksa 0 değeri atanacak, oluşan matris beg of words matrisidir"
   ]
  },
  {
   "cell_type": "code",
   "execution_count": 9,
   "id": "15bbe76d",
   "metadata": {},
   "outputs": [],
   "source": [
    "# Sklearn içinde bulunan countvectorizer fonksiyonu kullanılarak maximum 5000 kelimelik bag of words oluşturuldu\n",
    "cv = CountVectorizer(max_features = 2000)\n",
    "# Train verileri feature vektör matrisine çevirildi\n",
    "X = cv.fit_transform(corpus)\n",
    "# Fit işlemi için X bir diziye çevrildi\n",
    "X= X.toarray()"
   ]
  },
  {
   "cell_type": "code",
   "execution_count": 10,
   "id": "6fef3b1d",
   "metadata": {},
   "outputs": [],
   "source": [
    "# y her yorum için verilen kullanıcı duygusunu temsil eder - 0/1\n",
    "y = np.array(df[\"sentiment\"])"
   ]
  },
  {
   "cell_type": "markdown",
   "id": "0578cc48",
   "metadata": {},
   "source": [
    "### Train ve Test Split "
   ]
  },
  {
   "cell_type": "code",
   "execution_count": 11,
   "id": "958b7b20",
   "metadata": {},
   "outputs": [],
   "source": [
    "# 25000 verinin %80'i train, %20'si test işlemi için ayrıldı\n",
    "# İşlem sırasında, \"random_state\" parametresi verilerin rastgele bölünmesi için kullanılan bir değeridir. Aynı veri kümesi\n",
    "# üzerinde birden fazla kez çalışıldığında verilerin farklı şekillerde bölünmesi yerine aynı şekilde bölünmesini sağlar.\n",
    "X_train, X_test, y_train, y_test = train_test_split(X, y, test_size = 0.2, random_state = 42)"
   ]
  },
  {
   "cell_type": "markdown",
   "id": "4cdabaa0",
   "metadata": {},
   "source": [
    "### 1. Algoritma: Naive Bayes\n",
    "#### Naive Bayes sınıflandırıcısı, sınıflandırma yapmak için metindeki özelliklerin olasılıklarını kullanır. Özellik olarak, kelime dağılımları veya kelime sıklıkları kullanılabilir. Bu özellikler, sınıflandırıcıya her kelimenin her sınıf için olasılığını hesaplamak için gereken istatistiksel bilgiyi sağlar. Sınıflandırıcı, verilen metnin her sınıf için olasılıklarını hesaplar ve en yüksek olasılığa sahip sınıfı tahmin eder. "
   ]
  },
  {
   "cell_type": "code",
   "execution_count": 12,
   "id": "1b927088",
   "metadata": {},
   "outputs": [
    {
     "data": {
      "text/html": [
       "<style>#sk-container-id-1 {color: black;background-color: white;}#sk-container-id-1 pre{padding: 0;}#sk-container-id-1 div.sk-toggleable {background-color: white;}#sk-container-id-1 label.sk-toggleable__label {cursor: pointer;display: block;width: 100%;margin-bottom: 0;padding: 0.3em;box-sizing: border-box;text-align: center;}#sk-container-id-1 label.sk-toggleable__label-arrow:before {content: \"▸\";float: left;margin-right: 0.25em;color: #696969;}#sk-container-id-1 label.sk-toggleable__label-arrow:hover:before {color: black;}#sk-container-id-1 div.sk-estimator:hover label.sk-toggleable__label-arrow:before {color: black;}#sk-container-id-1 div.sk-toggleable__content {max-height: 0;max-width: 0;overflow: hidden;text-align: left;background-color: #f0f8ff;}#sk-container-id-1 div.sk-toggleable__content pre {margin: 0.2em;color: black;border-radius: 0.25em;background-color: #f0f8ff;}#sk-container-id-1 input.sk-toggleable__control:checked~div.sk-toggleable__content {max-height: 200px;max-width: 100%;overflow: auto;}#sk-container-id-1 input.sk-toggleable__control:checked~label.sk-toggleable__label-arrow:before {content: \"▾\";}#sk-container-id-1 div.sk-estimator input.sk-toggleable__control:checked~label.sk-toggleable__label {background-color: #d4ebff;}#sk-container-id-1 div.sk-label input.sk-toggleable__control:checked~label.sk-toggleable__label {background-color: #d4ebff;}#sk-container-id-1 input.sk-hidden--visually {border: 0;clip: rect(1px 1px 1px 1px);clip: rect(1px, 1px, 1px, 1px);height: 1px;margin: -1px;overflow: hidden;padding: 0;position: absolute;width: 1px;}#sk-container-id-1 div.sk-estimator {font-family: monospace;background-color: #f0f8ff;border: 1px dotted black;border-radius: 0.25em;box-sizing: border-box;margin-bottom: 0.5em;}#sk-container-id-1 div.sk-estimator:hover {background-color: #d4ebff;}#sk-container-id-1 div.sk-parallel-item::after {content: \"\";width: 100%;border-bottom: 1px solid gray;flex-grow: 1;}#sk-container-id-1 div.sk-label:hover label.sk-toggleable__label {background-color: #d4ebff;}#sk-container-id-1 div.sk-serial::before {content: \"\";position: absolute;border-left: 1px solid gray;box-sizing: border-box;top: 0;bottom: 0;left: 50%;z-index: 0;}#sk-container-id-1 div.sk-serial {display: flex;flex-direction: column;align-items: center;background-color: white;padding-right: 0.2em;padding-left: 0.2em;position: relative;}#sk-container-id-1 div.sk-item {position: relative;z-index: 1;}#sk-container-id-1 div.sk-parallel {display: flex;align-items: stretch;justify-content: center;background-color: white;position: relative;}#sk-container-id-1 div.sk-item::before, #sk-container-id-1 div.sk-parallel-item::before {content: \"\";position: absolute;border-left: 1px solid gray;box-sizing: border-box;top: 0;bottom: 0;left: 50%;z-index: -1;}#sk-container-id-1 div.sk-parallel-item {display: flex;flex-direction: column;z-index: 1;position: relative;background-color: white;}#sk-container-id-1 div.sk-parallel-item:first-child::after {align-self: flex-end;width: 50%;}#sk-container-id-1 div.sk-parallel-item:last-child::after {align-self: flex-start;width: 50%;}#sk-container-id-1 div.sk-parallel-item:only-child::after {width: 0;}#sk-container-id-1 div.sk-dashed-wrapped {border: 1px dashed gray;margin: 0 0.4em 0.5em 0.4em;box-sizing: border-box;padding-bottom: 0.4em;background-color: white;}#sk-container-id-1 div.sk-label label {font-family: monospace;font-weight: bold;display: inline-block;line-height: 1.2em;}#sk-container-id-1 div.sk-label-container {text-align: center;}#sk-container-id-1 div.sk-container {/* jupyter's `normalize.less` sets `[hidden] { display: none; }` but bootstrap.min.css set `[hidden] { display: none !important; }` so we also need the `!important` here to be able to override the default hidden behavior on the sphinx rendered scikit-learn.org. See: https://github.com/scikit-learn/scikit-learn/issues/21755 */display: inline-block !important;position: relative;}#sk-container-id-1 div.sk-text-repr-fallback {display: none;}</style><div id=\"sk-container-id-1\" class=\"sk-top-container\"><div class=\"sk-text-repr-fallback\"><pre>GaussianNB()</pre><b>In a Jupyter environment, please rerun this cell to show the HTML representation or trust the notebook. <br />On GitHub, the HTML representation is unable to render, please try loading this page with nbviewer.org.</b></div><div class=\"sk-container\" hidden><div class=\"sk-item\"><div class=\"sk-estimator sk-toggleable\"><input class=\"sk-toggleable__control sk-hidden--visually\" id=\"sk-estimator-id-1\" type=\"checkbox\" checked><label for=\"sk-estimator-id-1\" class=\"sk-toggleable__label sk-toggleable__label-arrow\">GaussianNB</label><div class=\"sk-toggleable__content\"><pre>GaussianNB()</pre></div></div></div></div></div>"
      ],
      "text/plain": [
       "GaussianNB()"
      ]
     },
     "execution_count": 12,
     "metadata": {},
     "output_type": "execute_result"
    }
   ],
   "source": [
    "# GaussianNB sınıflandırıcısı oluşturuldu\n",
    "classifier = GaussianNB()\n",
    "# Train veri setindeki özellikler (X_train) ve hedef değişken (y_train) kullanılarak sınıflandırıcının eğitilmesi sağlandı\n",
    "classifier.fit(X_train, y_train)"
   ]
  },
  {
   "cell_type": "code",
   "execution_count": 13,
   "id": "4d9d722b",
   "metadata": {},
   "outputs": [],
   "source": [
    "# Eğitilmiş sınıflandırıcı kullanılarak, test veri setindeki özelliklerin (X_test) sınıflandırılması yapıldı\n",
    "y_predN = classifier.predict(X_test)"
   ]
  },
  {
   "cell_type": "code",
   "execution_count": 14,
   "id": "8d262579",
   "metadata": {},
   "outputs": [
    {
     "name": "stdout",
     "output_type": "stream",
     "text": [
      "Confusion martrix for Naive Bayes is :- \n",
      "\n",
      "[[2116  365]\n",
      " [ 818 1701]]\n"
     ]
    }
   ],
   "source": [
    "# Gerçek sınıflar ve tahmin edilen sınıflar arasındaki benzerlik karşılaştırılarak confusion matrix oluşturuldu\n",
    "cm = confusion_matrix(y_test, y_predN)\n",
    "print(\"Confusion martrix for Naive Bayes is :- \\n\")\n",
    "print(cm)"
   ]
  },
  {
   "cell_type": "markdown",
   "id": "33877823",
   "metadata": {},
   "source": [
    "###### Çıktıya göre:\n",
    "##### 2116 olumlu veri doğru tahmin edilmişir.\n",
    "##### 365 veri yanlış şekilde olumlu tahmin edilmiştir.\n",
    "##### 818 veri yanlış şekilde olumsuz tahmin edilmiştir.\n",
    "##### 1071 olumsuz veri doğru tahmin edilmiştir."
   ]
  },
  {
   "cell_type": "code",
   "execution_count": 15,
   "id": "9d4c5d46",
   "metadata": {},
   "outputs": [
    {
     "name": "stdout",
     "output_type": "stream",
     "text": [
      "Accuracy rate : %  76.40749329681282\n"
     ]
    }
   ],
   "source": [
    "# Sonuca göre bir doğruluk yüzdesi oluşturuldu\n",
    "accuracy = roc_auc_score(y_test, y_predN)\n",
    "print(\"Accuracy rate : % \", accuracy * 100)"
   ]
  },
  {
   "cell_type": "markdown",
   "id": "b6002fe2",
   "metadata": {},
   "source": [
    "#### Naive Bayes algoritmasının bu veri setindeki doğruluk oranının %76 olduğu görüldü"
   ]
  },
  {
   "cell_type": "markdown",
   "id": "4a1dd7aa",
   "metadata": {},
   "source": [
    "### 2. Algoritma: Logistic Regression\n",
    "#### Model, verilen girdi özelliklerinin ağırlıklarını öğrenir ve bu ağırlıkların ağırlıklı toplamı olarak bir olasılık değeri hesaplar. Bu olasılık değeri, verinin pozitif sınıfa ait olma olasılığını temsil eder."
   ]
  },
  {
   "cell_type": "code",
   "execution_count": 16,
   "id": "b3dfd4b4",
   "metadata": {},
   "outputs": [
    {
     "name": "stderr",
     "output_type": "stream",
     "text": [
      "C:\\ProgramData\\anaconda3\\lib\\site-packages\\sklearn\\linear_model\\_logistic.py:458: ConvergenceWarning: lbfgs failed to converge (status=1):\n",
      "STOP: TOTAL NO. of ITERATIONS REACHED LIMIT.\n",
      "\n",
      "Increase the number of iterations (max_iter) or scale the data as shown in:\n",
      "    https://scikit-learn.org/stable/modules/preprocessing.html\n",
      "Please also refer to the documentation for alternative solver options:\n",
      "    https://scikit-learn.org/stable/modules/linear_model.html#logistic-regression\n",
      "  n_iter_i = _check_optimize_result(\n"
     ]
    },
    {
     "data": {
      "text/html": [
       "<style>#sk-container-id-2 {color: black;background-color: white;}#sk-container-id-2 pre{padding: 0;}#sk-container-id-2 div.sk-toggleable {background-color: white;}#sk-container-id-2 label.sk-toggleable__label {cursor: pointer;display: block;width: 100%;margin-bottom: 0;padding: 0.3em;box-sizing: border-box;text-align: center;}#sk-container-id-2 label.sk-toggleable__label-arrow:before {content: \"▸\";float: left;margin-right: 0.25em;color: #696969;}#sk-container-id-2 label.sk-toggleable__label-arrow:hover:before {color: black;}#sk-container-id-2 div.sk-estimator:hover label.sk-toggleable__label-arrow:before {color: black;}#sk-container-id-2 div.sk-toggleable__content {max-height: 0;max-width: 0;overflow: hidden;text-align: left;background-color: #f0f8ff;}#sk-container-id-2 div.sk-toggleable__content pre {margin: 0.2em;color: black;border-radius: 0.25em;background-color: #f0f8ff;}#sk-container-id-2 input.sk-toggleable__control:checked~div.sk-toggleable__content {max-height: 200px;max-width: 100%;overflow: auto;}#sk-container-id-2 input.sk-toggleable__control:checked~label.sk-toggleable__label-arrow:before {content: \"▾\";}#sk-container-id-2 div.sk-estimator input.sk-toggleable__control:checked~label.sk-toggleable__label {background-color: #d4ebff;}#sk-container-id-2 div.sk-label input.sk-toggleable__control:checked~label.sk-toggleable__label {background-color: #d4ebff;}#sk-container-id-2 input.sk-hidden--visually {border: 0;clip: rect(1px 1px 1px 1px);clip: rect(1px, 1px, 1px, 1px);height: 1px;margin: -1px;overflow: hidden;padding: 0;position: absolute;width: 1px;}#sk-container-id-2 div.sk-estimator {font-family: monospace;background-color: #f0f8ff;border: 1px dotted black;border-radius: 0.25em;box-sizing: border-box;margin-bottom: 0.5em;}#sk-container-id-2 div.sk-estimator:hover {background-color: #d4ebff;}#sk-container-id-2 div.sk-parallel-item::after {content: \"\";width: 100%;border-bottom: 1px solid gray;flex-grow: 1;}#sk-container-id-2 div.sk-label:hover label.sk-toggleable__label {background-color: #d4ebff;}#sk-container-id-2 div.sk-serial::before {content: \"\";position: absolute;border-left: 1px solid gray;box-sizing: border-box;top: 0;bottom: 0;left: 50%;z-index: 0;}#sk-container-id-2 div.sk-serial {display: flex;flex-direction: column;align-items: center;background-color: white;padding-right: 0.2em;padding-left: 0.2em;position: relative;}#sk-container-id-2 div.sk-item {position: relative;z-index: 1;}#sk-container-id-2 div.sk-parallel {display: flex;align-items: stretch;justify-content: center;background-color: white;position: relative;}#sk-container-id-2 div.sk-item::before, #sk-container-id-2 div.sk-parallel-item::before {content: \"\";position: absolute;border-left: 1px solid gray;box-sizing: border-box;top: 0;bottom: 0;left: 50%;z-index: -1;}#sk-container-id-2 div.sk-parallel-item {display: flex;flex-direction: column;z-index: 1;position: relative;background-color: white;}#sk-container-id-2 div.sk-parallel-item:first-child::after {align-self: flex-end;width: 50%;}#sk-container-id-2 div.sk-parallel-item:last-child::after {align-self: flex-start;width: 50%;}#sk-container-id-2 div.sk-parallel-item:only-child::after {width: 0;}#sk-container-id-2 div.sk-dashed-wrapped {border: 1px dashed gray;margin: 0 0.4em 0.5em 0.4em;box-sizing: border-box;padding-bottom: 0.4em;background-color: white;}#sk-container-id-2 div.sk-label label {font-family: monospace;font-weight: bold;display: inline-block;line-height: 1.2em;}#sk-container-id-2 div.sk-label-container {text-align: center;}#sk-container-id-2 div.sk-container {/* jupyter's `normalize.less` sets `[hidden] { display: none; }` but bootstrap.min.css set `[hidden] { display: none !important; }` so we also need the `!important` here to be able to override the default hidden behavior on the sphinx rendered scikit-learn.org. See: https://github.com/scikit-learn/scikit-learn/issues/21755 */display: inline-block !important;position: relative;}#sk-container-id-2 div.sk-text-repr-fallback {display: none;}</style><div id=\"sk-container-id-2\" class=\"sk-top-container\"><div class=\"sk-text-repr-fallback\"><pre>LogisticRegression(random_state=42)</pre><b>In a Jupyter environment, please rerun this cell to show the HTML representation or trust the notebook. <br />On GitHub, the HTML representation is unable to render, please try loading this page with nbviewer.org.</b></div><div class=\"sk-container\" hidden><div class=\"sk-item\"><div class=\"sk-estimator sk-toggleable\"><input class=\"sk-toggleable__control sk-hidden--visually\" id=\"sk-estimator-id-2\" type=\"checkbox\" checked><label for=\"sk-estimator-id-2\" class=\"sk-toggleable__label sk-toggleable__label-arrow\">LogisticRegression</label><div class=\"sk-toggleable__content\"><pre>LogisticRegression(random_state=42)</pre></div></div></div></div></div>"
      ],
      "text/plain": [
       "LogisticRegression(random_state=42)"
      ]
     },
     "execution_count": 16,
     "metadata": {},
     "output_type": "execute_result"
    }
   ],
   "source": [
    "# Logistic Regression sınıflandırıcısı oluşturuldu\n",
    "classifier1 = LogisticRegression(random_state = 42)\n",
    "# Train veri setindeki özellikler (X_train) ve hedef değişken (y_train) kullanılarak sınıflandırıcının eğitilmesi sağlandı\n",
    "classifier1.fit(X_train, y_train)"
   ]
  },
  {
   "cell_type": "code",
   "execution_count": 17,
   "id": "17eb13b1",
   "metadata": {},
   "outputs": [],
   "source": [
    "# Eğitilmiş sınıflandırıcı kullanılarak, test veri setindeki özelliklerin (X_test) sınıflandırılması yapıldı\n",
    "y_predL = classifier1.predict(X_test)"
   ]
  },
  {
   "cell_type": "code",
   "execution_count": 18,
   "id": "bd9f007d",
   "metadata": {},
   "outputs": [
    {
     "name": "stdout",
     "output_type": "stream",
     "text": [
      "Confusion martrix for Logistic regression is :- \n",
      "\n",
      "[[2114  367]\n",
      " [ 345 2174]]\n"
     ]
    }
   ],
   "source": [
    "# Gerçek sınıflar ve tahmin edilen sınıflar arasındaki benzerlik karşılaştırılarak confusion matrix oluşturuldu\n",
    "cm1 = confusion_matrix(y_test, y_predL)\n",
    "print(\"Confusion martrix for Logistic regression is :- \\n\")\n",
    "print(cm1)"
   ]
  },
  {
   "cell_type": "markdown",
   "id": "f2b7a9bb",
   "metadata": {},
   "source": [
    "###### Çıktıya göre:\n",
    "##### 2114 olumlu veri doğru tahmin edilmişir.\n",
    "##### 367 veri yanlış şekilde olumlu tahmin edilmiştir.\n",
    "##### 345 veri yanlış şekilde olumsuz tahmin edilmiştir.\n",
    "##### 2174 olumsuz veri doğru tahmin edilmiştir."
   ]
  },
  {
   "cell_type": "code",
   "execution_count": 32,
   "id": "fc7e9da2",
   "metadata": {},
   "outputs": [
    {
     "name": "stdout",
     "output_type": "stream",
     "text": [
      "Accuracy rate : %  85.75583325692892\n"
     ]
    }
   ],
   "source": [
    "# Sonuca göre bir doğruluk yüzdesi oluşturuldu\n",
    "accuracy = roc_auc_score(y_test, y_predL)\n",
    "print(\"Accuracy rate : % \", accuracy * 100)"
   ]
  },
  {
   "cell_type": "markdown",
   "id": "cf61d98a",
   "metadata": {},
   "source": [
    "#### Logistic Regression algoritmasının bu veri setindeki doğruluk oranının %85 olduğu görüldü"
   ]
  },
  {
   "cell_type": "markdown",
   "id": "e9729865",
   "metadata": {},
   "source": [
    "### 3. Algortima: Decision Trees\n",
    "#### Karar ağacı yöntemi, verileri belirli bir özellikle ilgili olarak bölerek bir ağaç yapısı oluşturur. Bu ağaç yapısı, verileri sınıflandırmak için kullanılır. Karar ağacı yöntemi, ayrıca, verilerdeki önemli özellikleri belirlemek için de kullanılır.\n",
    "#### Duygu analizi için karar ağacı yöntemi, metin verilerindeki önemli özellikleri belirleyerek, verileri sınıflandırmak için daha etkili bir şekilde kullanılabilir."
   ]
  },
  {
   "cell_type": "code",
   "execution_count": 20,
   "id": "23c59cfb",
   "metadata": {},
   "outputs": [
    {
     "data": {
      "text/html": [
       "<style>#sk-container-id-3 {color: black;background-color: white;}#sk-container-id-3 pre{padding: 0;}#sk-container-id-3 div.sk-toggleable {background-color: white;}#sk-container-id-3 label.sk-toggleable__label {cursor: pointer;display: block;width: 100%;margin-bottom: 0;padding: 0.3em;box-sizing: border-box;text-align: center;}#sk-container-id-3 label.sk-toggleable__label-arrow:before {content: \"▸\";float: left;margin-right: 0.25em;color: #696969;}#sk-container-id-3 label.sk-toggleable__label-arrow:hover:before {color: black;}#sk-container-id-3 div.sk-estimator:hover label.sk-toggleable__label-arrow:before {color: black;}#sk-container-id-3 div.sk-toggleable__content {max-height: 0;max-width: 0;overflow: hidden;text-align: left;background-color: #f0f8ff;}#sk-container-id-3 div.sk-toggleable__content pre {margin: 0.2em;color: black;border-radius: 0.25em;background-color: #f0f8ff;}#sk-container-id-3 input.sk-toggleable__control:checked~div.sk-toggleable__content {max-height: 200px;max-width: 100%;overflow: auto;}#sk-container-id-3 input.sk-toggleable__control:checked~label.sk-toggleable__label-arrow:before {content: \"▾\";}#sk-container-id-3 div.sk-estimator input.sk-toggleable__control:checked~label.sk-toggleable__label {background-color: #d4ebff;}#sk-container-id-3 div.sk-label input.sk-toggleable__control:checked~label.sk-toggleable__label {background-color: #d4ebff;}#sk-container-id-3 input.sk-hidden--visually {border: 0;clip: rect(1px 1px 1px 1px);clip: rect(1px, 1px, 1px, 1px);height: 1px;margin: -1px;overflow: hidden;padding: 0;position: absolute;width: 1px;}#sk-container-id-3 div.sk-estimator {font-family: monospace;background-color: #f0f8ff;border: 1px dotted black;border-radius: 0.25em;box-sizing: border-box;margin-bottom: 0.5em;}#sk-container-id-3 div.sk-estimator:hover {background-color: #d4ebff;}#sk-container-id-3 div.sk-parallel-item::after {content: \"\";width: 100%;border-bottom: 1px solid gray;flex-grow: 1;}#sk-container-id-3 div.sk-label:hover label.sk-toggleable__label {background-color: #d4ebff;}#sk-container-id-3 div.sk-serial::before {content: \"\";position: absolute;border-left: 1px solid gray;box-sizing: border-box;top: 0;bottom: 0;left: 50%;z-index: 0;}#sk-container-id-3 div.sk-serial {display: flex;flex-direction: column;align-items: center;background-color: white;padding-right: 0.2em;padding-left: 0.2em;position: relative;}#sk-container-id-3 div.sk-item {position: relative;z-index: 1;}#sk-container-id-3 div.sk-parallel {display: flex;align-items: stretch;justify-content: center;background-color: white;position: relative;}#sk-container-id-3 div.sk-item::before, #sk-container-id-3 div.sk-parallel-item::before {content: \"\";position: absolute;border-left: 1px solid gray;box-sizing: border-box;top: 0;bottom: 0;left: 50%;z-index: -1;}#sk-container-id-3 div.sk-parallel-item {display: flex;flex-direction: column;z-index: 1;position: relative;background-color: white;}#sk-container-id-3 div.sk-parallel-item:first-child::after {align-self: flex-end;width: 50%;}#sk-container-id-3 div.sk-parallel-item:last-child::after {align-self: flex-start;width: 50%;}#sk-container-id-3 div.sk-parallel-item:only-child::after {width: 0;}#sk-container-id-3 div.sk-dashed-wrapped {border: 1px dashed gray;margin: 0 0.4em 0.5em 0.4em;box-sizing: border-box;padding-bottom: 0.4em;background-color: white;}#sk-container-id-3 div.sk-label label {font-family: monospace;font-weight: bold;display: inline-block;line-height: 1.2em;}#sk-container-id-3 div.sk-label-container {text-align: center;}#sk-container-id-3 div.sk-container {/* jupyter's `normalize.less` sets `[hidden] { display: none; }` but bootstrap.min.css set `[hidden] { display: none !important; }` so we also need the `!important` here to be able to override the default hidden behavior on the sphinx rendered scikit-learn.org. See: https://github.com/scikit-learn/scikit-learn/issues/21755 */display: inline-block !important;position: relative;}#sk-container-id-3 div.sk-text-repr-fallback {display: none;}</style><div id=\"sk-container-id-3\" class=\"sk-top-container\"><div class=\"sk-text-repr-fallback\"><pre>DecisionTreeClassifier(criterion=&#x27;entropy&#x27;, random_state=42)</pre><b>In a Jupyter environment, please rerun this cell to show the HTML representation or trust the notebook. <br />On GitHub, the HTML representation is unable to render, please try loading this page with nbviewer.org.</b></div><div class=\"sk-container\" hidden><div class=\"sk-item\"><div class=\"sk-estimator sk-toggleable\"><input class=\"sk-toggleable__control sk-hidden--visually\" id=\"sk-estimator-id-3\" type=\"checkbox\" checked><label for=\"sk-estimator-id-3\" class=\"sk-toggleable__label sk-toggleable__label-arrow\">DecisionTreeClassifier</label><div class=\"sk-toggleable__content\"><pre>DecisionTreeClassifier(criterion=&#x27;entropy&#x27;, random_state=42)</pre></div></div></div></div></div>"
      ],
      "text/plain": [
       "DecisionTreeClassifier(criterion='entropy', random_state=42)"
      ]
     },
     "execution_count": 20,
     "metadata": {},
     "output_type": "execute_result"
    }
   ],
   "source": [
    "# Decision Tree sınıflandırıcısı oluşturuldu\n",
    "# Criterion parametresi, ağaçların oluşturulması için kullanılan bölünme ölçüsünü belirler. \"entropy\" veya \"gini\"\n",
    "# Entropy değeri, daha homojen dallara sahip ağaçların oluşturulmasını sağladığı için burada o kullanıldı\n",
    "classifier2 = DecisionTreeClassifier(criterion = 'entropy', random_state = 42)\n",
    "# Train veri setindeki özellikler (X_train) ve hedef değişken (y_train) kullanılarak sınıflandırıcının eğitilmesi sağlandı\n",
    "classifier2.fit(X_train, y_train)"
   ]
  },
  {
   "cell_type": "code",
   "execution_count": 21,
   "id": "55caa36f",
   "metadata": {},
   "outputs": [],
   "source": [
    "# Eğitilmiş sınıflandırıcı kullanılarak, test veri setindeki özelliklerin (X_test) sınıflandırılması yapıldı\n",
    "y_predD = classifier2.predict(X_test)"
   ]
  },
  {
   "cell_type": "code",
   "execution_count": 22,
   "id": "3187fd0e",
   "metadata": {},
   "outputs": [
    {
     "name": "stdout",
     "output_type": "stream",
     "text": [
      "Confusion martrix for Decision Tree is :- \n",
      "\n",
      "[[1726  755]\n",
      " [ 731 1788]]\n"
     ]
    }
   ],
   "source": [
    "# Gerçek sınıflar ve tahmin edilen sınıflar arasındaki benzerlik karşılaştırılarak confusion matrix oluşturuldu\n",
    "cm2 = confusion_matrix(y_test, y_predD)\n",
    "print(\"Confusion martrix for Decision Tree is :- \\n\")\n",
    "print(cm2)"
   ]
  },
  {
   "cell_type": "markdown",
   "id": "221ac3d3",
   "metadata": {},
   "source": [
    "###### Çıktıya göre:\n",
    "##### 1726 olumlu veri doğru tahmin edilmişir.\n",
    "##### 755 veri yanlış şekilde olumlu tahmin edilmiştir.\n",
    "##### 731 veri yanlış şekilde olumsuz tahmin edilmiştir.\n",
    "##### 1788 olumsuz veri doğru tahmin edilmiştir."
   ]
  },
  {
   "cell_type": "code",
   "execution_count": 33,
   "id": "e307e3eb",
   "metadata": {},
   "outputs": [
    {
     "name": "stdout",
     "output_type": "stream",
     "text": [
      "Accuracy rate : %  70.27463506292123\n"
     ]
    }
   ],
   "source": [
    "# Sonuca göre bir doğruluk yüzdesi oluşturuldu\n",
    "accuracy = roc_auc_score(y_test, y_predD)\n",
    "print(\"Accuracy rate : % \", accuracy * 100)"
   ]
  },
  {
   "cell_type": "markdown",
   "id": "3d77a0da",
   "metadata": {},
   "source": [
    "#### Decision Trees algoritmasının bu veri setindeki doğruluk oranının %70 olduğu görüldü"
   ]
  },
  {
   "cell_type": "markdown",
   "id": "d3d84f9f",
   "metadata": {},
   "source": [
    "### 3.Algoritma: Random Forest\n",
    "#### Random forest, bir makine öğrenimi algoritmasıdır ve sınıflandırma veya regresyon problemlerinde kullanılabilir. Random forest, birden fazla karar ağacını (decision tree) bir araya getirerek bir topluluk (ensemble) oluşturur ve bu topluluğun çoğunluğunun oylamasıyla son sınıflandırma yapar. Bu yöntem, overfitting'e karşı daha dayanıklıdır ve daha iyi bir genelleştirme sağlar.\n",
    "#### Duygu analiznde model, önceden işlenmiş metin verileri kullanarak, her veri noktasını bir sınıfa atar ve böylece bir metnin duygu durumunu tahmin edebilir."
   ]
  },
  {
   "cell_type": "code",
   "execution_count": 24,
   "id": "a3eeb919",
   "metadata": {},
   "outputs": [
    {
     "data": {
      "text/html": [
       "<style>#sk-container-id-4 {color: black;background-color: white;}#sk-container-id-4 pre{padding: 0;}#sk-container-id-4 div.sk-toggleable {background-color: white;}#sk-container-id-4 label.sk-toggleable__label {cursor: pointer;display: block;width: 100%;margin-bottom: 0;padding: 0.3em;box-sizing: border-box;text-align: center;}#sk-container-id-4 label.sk-toggleable__label-arrow:before {content: \"▸\";float: left;margin-right: 0.25em;color: #696969;}#sk-container-id-4 label.sk-toggleable__label-arrow:hover:before {color: black;}#sk-container-id-4 div.sk-estimator:hover label.sk-toggleable__label-arrow:before {color: black;}#sk-container-id-4 div.sk-toggleable__content {max-height: 0;max-width: 0;overflow: hidden;text-align: left;background-color: #f0f8ff;}#sk-container-id-4 div.sk-toggleable__content pre {margin: 0.2em;color: black;border-radius: 0.25em;background-color: #f0f8ff;}#sk-container-id-4 input.sk-toggleable__control:checked~div.sk-toggleable__content {max-height: 200px;max-width: 100%;overflow: auto;}#sk-container-id-4 input.sk-toggleable__control:checked~label.sk-toggleable__label-arrow:before {content: \"▾\";}#sk-container-id-4 div.sk-estimator input.sk-toggleable__control:checked~label.sk-toggleable__label {background-color: #d4ebff;}#sk-container-id-4 div.sk-label input.sk-toggleable__control:checked~label.sk-toggleable__label {background-color: #d4ebff;}#sk-container-id-4 input.sk-hidden--visually {border: 0;clip: rect(1px 1px 1px 1px);clip: rect(1px, 1px, 1px, 1px);height: 1px;margin: -1px;overflow: hidden;padding: 0;position: absolute;width: 1px;}#sk-container-id-4 div.sk-estimator {font-family: monospace;background-color: #f0f8ff;border: 1px dotted black;border-radius: 0.25em;box-sizing: border-box;margin-bottom: 0.5em;}#sk-container-id-4 div.sk-estimator:hover {background-color: #d4ebff;}#sk-container-id-4 div.sk-parallel-item::after {content: \"\";width: 100%;border-bottom: 1px solid gray;flex-grow: 1;}#sk-container-id-4 div.sk-label:hover label.sk-toggleable__label {background-color: #d4ebff;}#sk-container-id-4 div.sk-serial::before {content: \"\";position: absolute;border-left: 1px solid gray;box-sizing: border-box;top: 0;bottom: 0;left: 50%;z-index: 0;}#sk-container-id-4 div.sk-serial {display: flex;flex-direction: column;align-items: center;background-color: white;padding-right: 0.2em;padding-left: 0.2em;position: relative;}#sk-container-id-4 div.sk-item {position: relative;z-index: 1;}#sk-container-id-4 div.sk-parallel {display: flex;align-items: stretch;justify-content: center;background-color: white;position: relative;}#sk-container-id-4 div.sk-item::before, #sk-container-id-4 div.sk-parallel-item::before {content: \"\";position: absolute;border-left: 1px solid gray;box-sizing: border-box;top: 0;bottom: 0;left: 50%;z-index: -1;}#sk-container-id-4 div.sk-parallel-item {display: flex;flex-direction: column;z-index: 1;position: relative;background-color: white;}#sk-container-id-4 div.sk-parallel-item:first-child::after {align-self: flex-end;width: 50%;}#sk-container-id-4 div.sk-parallel-item:last-child::after {align-self: flex-start;width: 50%;}#sk-container-id-4 div.sk-parallel-item:only-child::after {width: 0;}#sk-container-id-4 div.sk-dashed-wrapped {border: 1px dashed gray;margin: 0 0.4em 0.5em 0.4em;box-sizing: border-box;padding-bottom: 0.4em;background-color: white;}#sk-container-id-4 div.sk-label label {font-family: monospace;font-weight: bold;display: inline-block;line-height: 1.2em;}#sk-container-id-4 div.sk-label-container {text-align: center;}#sk-container-id-4 div.sk-container {/* jupyter's `normalize.less` sets `[hidden] { display: none; }` but bootstrap.min.css set `[hidden] { display: none !important; }` so we also need the `!important` here to be able to override the default hidden behavior on the sphinx rendered scikit-learn.org. See: https://github.com/scikit-learn/scikit-learn/issues/21755 */display: inline-block !important;position: relative;}#sk-container-id-4 div.sk-text-repr-fallback {display: none;}</style><div id=\"sk-container-id-4\" class=\"sk-top-container\"><div class=\"sk-text-repr-fallback\"><pre>RandomForestClassifier(criterion=&#x27;entropy&#x27;, random_state=42)</pre><b>In a Jupyter environment, please rerun this cell to show the HTML representation or trust the notebook. <br />On GitHub, the HTML representation is unable to render, please try loading this page with nbviewer.org.</b></div><div class=\"sk-container\" hidden><div class=\"sk-item\"><div class=\"sk-estimator sk-toggleable\"><input class=\"sk-toggleable__control sk-hidden--visually\" id=\"sk-estimator-id-4\" type=\"checkbox\" checked><label for=\"sk-estimator-id-4\" class=\"sk-toggleable__label sk-toggleable__label-arrow\">RandomForestClassifier</label><div class=\"sk-toggleable__content\"><pre>RandomForestClassifier(criterion=&#x27;entropy&#x27;, random_state=42)</pre></div></div></div></div></div>"
      ],
      "text/plain": [
       "RandomForestClassifier(criterion='entropy', random_state=42)"
      ]
     },
     "execution_count": 24,
     "metadata": {},
     "output_type": "execute_result"
    }
   ],
   "source": [
    "# Random Forest sınıflandırıcısı oluşturuldu. 100 adet decision kullanıldı\n",
    "classifier3 = RandomForestClassifier(n_estimators = 100, criterion = 'entropy', random_state = 42)\n",
    "# Train veri setindeki özellikler (X_train) ve hedef değişken (y_train) kullanılarak sınıflandırıcının eğitilmesi sağlandı\n",
    "classifier3.fit(X_train, y_train)"
   ]
  },
  {
   "cell_type": "code",
   "execution_count": 25,
   "id": "071a9e83",
   "metadata": {},
   "outputs": [],
   "source": [
    "# Eğitilmiş sınıflandırıcı kullanılarak, test veri setindeki özelliklerin (X_test) sınıflandırılması yapıldı\n",
    "y_predR = classifier3.predict(X_test)"
   ]
  },
  {
   "cell_type": "code",
   "execution_count": 26,
   "id": "dbf50df4",
   "metadata": {},
   "outputs": [
    {
     "name": "stdout",
     "output_type": "stream",
     "text": [
      "Confusion martrix for Random Forest is :- \n",
      "\n",
      "[[2098  383]\n",
      " [ 389 2130]]\n"
     ]
    }
   ],
   "source": [
    "# Gerçek sınıflar ve tahmin edilen sınıflar arasındaki benzerlik karşılaştırılarak confusion matrix oluşturuldu\n",
    "cm3 = confusion_matrix(y_test, y_predR)\n",
    "print(\"Confusion martrix for Random Forest is :- \\n\")\n",
    "print(cm3)"
   ]
  },
  {
   "cell_type": "markdown",
   "id": "6c52f241",
   "metadata": {},
   "source": [
    "###### Çıktıya göre:\n",
    "##### 2098 olumlu veri doğru tahmin edilmişir.\n",
    "##### 383 veri yanlış şekilde olumlu tahmin edilmiştir.\n",
    "##### 398 veri yanlış şekilde olumsuz tahmin edilmiştir.\n",
    "##### 2130 olumsuz veri doğru tahmin edilmiştir."
   ]
  },
  {
   "cell_type": "code",
   "execution_count": 35,
   "id": "9a481d3f",
   "metadata": {},
   "outputs": [
    {
     "name": "stdout",
     "output_type": "stream",
     "text": [
      "Accuracy rate : %  84.56002018676598\n"
     ]
    }
   ],
   "source": [
    "# Sonuca göre bir doğruluk yüzdesi oluşturuldu\n",
    "accuracy = roc_auc_score(y_test, y_predR)\n",
    "print(\"Accuracy rate : % \", accuracy * 100)"
   ]
  },
  {
   "cell_type": "markdown",
   "id": "86209121",
   "metadata": {},
   "source": [
    "#### Random Forest algoritmasının bu veri setindeki doğruluk oranının %84 olduğu görüldü"
   ]
  },
  {
   "cell_type": "markdown",
   "id": "f50270da",
   "metadata": {},
   "source": [
    "### KNN\n",
    "#### KNN algoritması, verileri etiketlerine göre gruplara ayırır ve veri noktalarının yakınlığına göre bir etiket tahmini yapar. Algoritma, veri noktalarının birbirine ne kadar yakın olduğunu ölçmek için öklid uzaklığı kullanır. Bu öklid uzaklığına göre en yakın komşular seçilir ve sınıflandırma için kullanılır.\n",
    "#### Duygu analizi için KNN algoritması kullanıldığında, veri kümesindeki metin verileri vektörel olarak ifade edilir. Daha sonra, öklid uzaklığı kullanarak, bir metnin diğerlerine ne kadar benzediği belirlenir ve metinler sınıflandırılır."
   ]
  },
  {
   "cell_type": "code",
   "execution_count": 28,
   "id": "1c10f312",
   "metadata": {},
   "outputs": [
    {
     "data": {
      "text/html": [
       "<style>#sk-container-id-5 {color: black;background-color: white;}#sk-container-id-5 pre{padding: 0;}#sk-container-id-5 div.sk-toggleable {background-color: white;}#sk-container-id-5 label.sk-toggleable__label {cursor: pointer;display: block;width: 100%;margin-bottom: 0;padding: 0.3em;box-sizing: border-box;text-align: center;}#sk-container-id-5 label.sk-toggleable__label-arrow:before {content: \"▸\";float: left;margin-right: 0.25em;color: #696969;}#sk-container-id-5 label.sk-toggleable__label-arrow:hover:before {color: black;}#sk-container-id-5 div.sk-estimator:hover label.sk-toggleable__label-arrow:before {color: black;}#sk-container-id-5 div.sk-toggleable__content {max-height: 0;max-width: 0;overflow: hidden;text-align: left;background-color: #f0f8ff;}#sk-container-id-5 div.sk-toggleable__content pre {margin: 0.2em;color: black;border-radius: 0.25em;background-color: #f0f8ff;}#sk-container-id-5 input.sk-toggleable__control:checked~div.sk-toggleable__content {max-height: 200px;max-width: 100%;overflow: auto;}#sk-container-id-5 input.sk-toggleable__control:checked~label.sk-toggleable__label-arrow:before {content: \"▾\";}#sk-container-id-5 div.sk-estimator input.sk-toggleable__control:checked~label.sk-toggleable__label {background-color: #d4ebff;}#sk-container-id-5 div.sk-label input.sk-toggleable__control:checked~label.sk-toggleable__label {background-color: #d4ebff;}#sk-container-id-5 input.sk-hidden--visually {border: 0;clip: rect(1px 1px 1px 1px);clip: rect(1px, 1px, 1px, 1px);height: 1px;margin: -1px;overflow: hidden;padding: 0;position: absolute;width: 1px;}#sk-container-id-5 div.sk-estimator {font-family: monospace;background-color: #f0f8ff;border: 1px dotted black;border-radius: 0.25em;box-sizing: border-box;margin-bottom: 0.5em;}#sk-container-id-5 div.sk-estimator:hover {background-color: #d4ebff;}#sk-container-id-5 div.sk-parallel-item::after {content: \"\";width: 100%;border-bottom: 1px solid gray;flex-grow: 1;}#sk-container-id-5 div.sk-label:hover label.sk-toggleable__label {background-color: #d4ebff;}#sk-container-id-5 div.sk-serial::before {content: \"\";position: absolute;border-left: 1px solid gray;box-sizing: border-box;top: 0;bottom: 0;left: 50%;z-index: 0;}#sk-container-id-5 div.sk-serial {display: flex;flex-direction: column;align-items: center;background-color: white;padding-right: 0.2em;padding-left: 0.2em;position: relative;}#sk-container-id-5 div.sk-item {position: relative;z-index: 1;}#sk-container-id-5 div.sk-parallel {display: flex;align-items: stretch;justify-content: center;background-color: white;position: relative;}#sk-container-id-5 div.sk-item::before, #sk-container-id-5 div.sk-parallel-item::before {content: \"\";position: absolute;border-left: 1px solid gray;box-sizing: border-box;top: 0;bottom: 0;left: 50%;z-index: -1;}#sk-container-id-5 div.sk-parallel-item {display: flex;flex-direction: column;z-index: 1;position: relative;background-color: white;}#sk-container-id-5 div.sk-parallel-item:first-child::after {align-self: flex-end;width: 50%;}#sk-container-id-5 div.sk-parallel-item:last-child::after {align-self: flex-start;width: 50%;}#sk-container-id-5 div.sk-parallel-item:only-child::after {width: 0;}#sk-container-id-5 div.sk-dashed-wrapped {border: 1px dashed gray;margin: 0 0.4em 0.5em 0.4em;box-sizing: border-box;padding-bottom: 0.4em;background-color: white;}#sk-container-id-5 div.sk-label label {font-family: monospace;font-weight: bold;display: inline-block;line-height: 1.2em;}#sk-container-id-5 div.sk-label-container {text-align: center;}#sk-container-id-5 div.sk-container {/* jupyter's `normalize.less` sets `[hidden] { display: none; }` but bootstrap.min.css set `[hidden] { display: none !important; }` so we also need the `!important` here to be able to override the default hidden behavior on the sphinx rendered scikit-learn.org. See: https://github.com/scikit-learn/scikit-learn/issues/21755 */display: inline-block !important;position: relative;}#sk-container-id-5 div.sk-text-repr-fallback {display: none;}</style><div id=\"sk-container-id-5\" class=\"sk-top-container\"><div class=\"sk-text-repr-fallback\"><pre>KNeighborsClassifier()</pre><b>In a Jupyter environment, please rerun this cell to show the HTML representation or trust the notebook. <br />On GitHub, the HTML representation is unable to render, please try loading this page with nbviewer.org.</b></div><div class=\"sk-container\" hidden><div class=\"sk-item\"><div class=\"sk-estimator sk-toggleable\"><input class=\"sk-toggleable__control sk-hidden--visually\" id=\"sk-estimator-id-5\" type=\"checkbox\" checked><label for=\"sk-estimator-id-5\" class=\"sk-toggleable__label sk-toggleable__label-arrow\">KNeighborsClassifier</label><div class=\"sk-toggleable__content\"><pre>KNeighborsClassifier()</pre></div></div></div></div></div>"
      ],
      "text/plain": [
       "KNeighborsClassifier()"
      ]
     },
     "execution_count": 28,
     "metadata": {},
     "output_type": "execute_result"
    }
   ],
   "source": [
    "# KNN sınıflandırıcısı oluşturuldu\n",
    "# İşlem için 5 komşunun kullanılacağı belirlendi\n",
    "# Uzaklık ölçüsünü belirleyen metric'de öklid'e benzeyen bir uzaklık olan minkowski tanımlandı\n",
    "classifier4 = KNeighborsClassifier(n_neighbors = 5, metric = 'minkowski', p = 2)\n",
    "# Train veri setindeki özellikler (X_train) ve hedef değişken (y_train) kullanılarak sınıflandırıcının eğitilmesi sağlandı\n",
    "classifier4.fit(X_train, y_train)"
   ]
  },
  {
   "cell_type": "code",
   "execution_count": 29,
   "id": "6346713b",
   "metadata": {},
   "outputs": [],
   "source": [
    "# Eğitilmiş sınıflandırıcı kullanılarak, test veri setindeki özelliklerin (X_test) sınıflandırılması yapıldı\n",
    "y_predK = classifier4.predict(X_test)"
   ]
  },
  {
   "cell_type": "code",
   "execution_count": 30,
   "id": "1204ec4c",
   "metadata": {},
   "outputs": [
    {
     "name": "stdout",
     "output_type": "stream",
     "text": [
      "Confusion martrix for KNN is :- \n",
      "\n",
      "[[1679  802]\n",
      " [1090 1429]]\n"
     ]
    }
   ],
   "source": [
    "# Gerçek sınıflar ve tahmin edilen sınıflar arasındaki benzerlik karşılaştırılarak confusion matrix oluşturuldu\n",
    "cm4 = confusion_matrix(y_test, y_predK)\n",
    "print(\"Confusion martrix for KNN is :- \\n\")\n",
    "print(cm4)"
   ]
  },
  {
   "cell_type": "markdown",
   "id": "8265ea74",
   "metadata": {},
   "source": [
    "###### Çıktıya göre:\n",
    "##### 1679 olumlu veri doğru tahmin edilmişir.\n",
    "##### 802 veri yanlış şekilde olumlu tahmin edilmiştir.\n",
    "##### 1090 veri yanlış şekilde olumsuz tahmin edilmiştir.\n",
    "##### 1429 olumsuz veri doğru tahmin edilmiştir."
   ]
  },
  {
   "cell_type": "code",
   "execution_count": 36,
   "id": "db5482bb",
   "metadata": {},
   "outputs": [
    {
     "name": "stdout",
     "output_type": "stream",
     "text": [
      "Accuracy rate : %  62.201592763998036\n"
     ]
    }
   ],
   "source": [
    "# Sonuca göre bir doğruluk yüzdesi oluşturuldu\n",
    "accuracy = roc_auc_score(y_test, y_predK)\n",
    "print(\"Accuracy rate : % \", accuracy * 100)"
   ]
  },
  {
   "cell_type": "markdown",
   "id": "e0f5d908",
   "metadata": {},
   "source": [
    "#### KNN algoritmasının bu veri setindeki doğruluk oranının %62 olduğu görüldü"
   ]
  },
  {
   "cell_type": "markdown",
   "id": "bcd8db10",
   "metadata": {},
   "source": [
    "#### İncelenen dört algoritma arasından bu veri seti için en doğru sonucu logistic regression algoritmasının verdiği anlaşıldı"
   ]
  },
  {
   "cell_type": "code",
   "execution_count": null,
   "id": "52b4a954",
   "metadata": {},
   "outputs": [],
   "source": []
  }
 ],
 "metadata": {
  "kernelspec": {
   "display_name": "Python 3 (ipykernel)",
   "language": "python",
   "name": "python3"
  },
  "language_info": {
   "codemirror_mode": {
    "name": "ipython",
    "version": 3
   },
   "file_extension": ".py",
   "mimetype": "text/x-python",
   "name": "python",
   "nbconvert_exporter": "python",
   "pygments_lexer": "ipython3",
   "version": "3.10.9"
  }
 },
 "nbformat": 4,
 "nbformat_minor": 5
}
